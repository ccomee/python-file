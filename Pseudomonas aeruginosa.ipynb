{
 "cells": [
  {
   "cell_type": "code",
   "execution_count": 1,
   "id": "b32e2967",
   "metadata": {},
   "outputs": [],
   "source": [
    "import cobra\n",
    "from cobra import Reaction, Metabolite, Model\n",
    "import numpy as np\n",
    "import matplotlib.pyplot as plt\n",
    "import pandas as pd\n",
    "from operator import itemgetter"
   ]
  },
  {
   "cell_type": "markdown",
   "id": "fc26a383",
   "metadata": {},
   "source": [
    "# Load Model"
   ]
  },
  {
   "cell_type": "code",
   "execution_count": 45,
   "id": "c86d5e3e",
   "metadata": {},
   "outputs": [],
   "source": [
    "model = cobra.io.load_json_model('data/SI3_iJN1411final_flux_w_rhamnolipid_biosynthesis.json')"
   ]
  },
  {
   "cell_type": "code",
   "execution_count": 46,
   "id": "737c2512",
   "metadata": {},
   "outputs": [],
   "source": [
    "model.objective = model.reactions.BiomassKT2440_WT3.flux_expression\n",
    "model.reactions.EX_glyc_e_.lower_bound = 0\n",
    "model.reactions.ATPM.bounds = -1,1"
   ]
  },
  {
   "cell_type": "markdown",
   "id": "d766f8fc",
   "metadata": {},
   "source": [
    "# Biomass optimization for different carbon nutrients"
   ]
  },
  {
   "cell_type": "code",
   "execution_count": 4,
   "id": "9515eb8c",
   "metadata": {},
   "outputs": [],
   "source": [
    "non_carbon_nutrients_EX = ['EX_nh4_e_',      # ammonium\n",
    "                           'EX_pi_e_',       # phosphate\n",
    "                           'EX_so4_e_',      # sulfate\n",
    "                           'EX_fe3_e_',      # fe3+\n",
    "                           'EX_mn2_e_',      # mn2+\n",
    "                           'EX_zn2_e_',      # zn2+\n",
    "                           'EX_cu2_e_',      # cu2+\n",
    "                           'EX_ca2_e_',      # ca2+\n",
    "                           'EX_cl_e_',       # cl-\n",
    "                           'EX_cobalt2_e_',  # cobalt\n",
    "                           'EX_k_e_',        # k\n",
    "                           'EX_mobd_e_',     # mo6+\n",
    "                           'EX_na1_e_',      # na+\n",
    "                           'EX_ni2_e_',      # ni2+\n",
    "                           'EX_mg2_e_',      # mg2+\n",
    "                           'EX_o2_e_']\n",
    "\n",
    "carbon_nutrients_EX = []\n",
    "for rea in model.reactions :\n",
    "    if rea.id[:2] == 'EX' :\n",
    "        if not(rea.id in non_carbon_nutrients_EX) :\n",
    "            carbon_nutrients_EX.append(rea.id)"
   ]
  },
  {
   "cell_type": "code",
   "execution_count": 57,
   "id": "37a99948",
   "metadata": {},
   "outputs": [],
   "source": [
    "lb = -10\n",
    "\n",
    "solutions = {nutrient:0 for nutrient in carbon_nutrients_EX}\n",
    "for nutrient in carbon_nutrients_EX :\n",
    "    model.reactions.get_by_id(nutrient).lower_bound = lb\n",
    "    solutions[nutrient] = int(model.slim_optimize()> 1e-3)\n",
    "    model.reactions.get_by_id(nutrient).lower_bound = 0"
   ]
  }
 ],
 "metadata": {
  "kernelspec": {
   "display_name": "Python 3 (ipykernel)",
   "language": "python",
   "name": "python3"
  },
  "language_info": {
   "codemirror_mode": {
    "name": "ipython",
    "version": 3
   },
   "file_extension": ".py",
   "mimetype": "text/x-python",
   "name": "python",
   "nbconvert_exporter": "python",
   "pygments_lexer": "ipython3",
   "version": "3.11.2"
  }
 },
 "nbformat": 4,
 "nbformat_minor": 5
}
